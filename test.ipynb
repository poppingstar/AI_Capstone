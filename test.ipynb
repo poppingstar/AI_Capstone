{
 "cells": [
  {
   "cell_type": "code",
   "execution_count": 3,
   "id": "8689dc35",
   "metadata": {},
   "outputs": [],
   "source": [
    "import torch"
   ]
  },
  {
   "cell_type": "code",
   "execution_count": 7,
   "id": "1b04b988",
   "metadata": {},
   "outputs": [
    {
     "name": "stdout",
     "output_type": "stream",
     "text": [
      "<class 'torch.Size'>\n",
      "<class 'torch.Size'>\n"
     ]
    },
    {
     "data": {
      "text/plain": [
       "6000"
      ]
     },
     "execution_count": 7,
     "metadata": {},
     "output_type": "execute_result"
    }
   ],
   "source": [
    "x = torch.ones(10, 20, 30)\n",
    "print(type(x.shape))\n",
    "print(type(x.size()))\n",
    "x.numel()"
   ]
  },
  {
   "cell_type": "code",
   "execution_count": null,
   "id": "829f51b0",
   "metadata": {},
   "outputs": [
    {
     "data": {
      "text/plain": [
       "tensor([[[ 0,  0,  0,  0,  0],\n",
       "         [ 0,  0,  0,  0,  0],\n",
       "         [ 0,  0,  0,  0,  0],\n",
       "         [ 0,  0,  0,  0,  0],\n",
       "         [ 0,  0,  0,  0,  0]],\n",
       "\n",
       "        [[ 0,  0,  0,  0,  0],\n",
       "         [ 0,  0,  0,  0,  0],\n",
       "         [ 0,  0,  0,  0,  0],\n",
       "         [ 0,  0,  0,  0,  0],\n",
       "         [ 0,  0,  0,  0,  0]],\n",
       "\n",
       "        [[ 0,  0,  0,  0,  0],\n",
       "         [ 0,  0,  0,  0,  0],\n",
       "         [ 0,  0,  0,  0,  0],\n",
       "         [ 0,  0,  0,  0,  0],\n",
       "         [ 0,  0,  0,  0,  0]],\n",
       "\n",
       "        ...,\n",
       "\n",
       "        [[29, 29, 29, 29, 29],\n",
       "         [29, 29, 29, 29, 29],\n",
       "         [29, 29, 29, 29, 29],\n",
       "         [29, 29, 29, 29, 29],\n",
       "         [29, 29, 29, 29, 29]],\n",
       "\n",
       "        [[29, 29, 29, 29, 29],\n",
       "         [29, 29, 29, 29, 29],\n",
       "         [29, 29, 29, 29, 29],\n",
       "         [29, 29, 29, 29, 29],\n",
       "         [29, 29, 29, 29, 29]],\n",
       "\n",
       "        [[29, 29, 29, 29, 29],\n",
       "         [29, 29, 29, 29, 29],\n",
       "         [29, 29, 29, 29, 29],\n",
       "         [29, 29, 29, 29, 29],\n",
       "         [29, 29, 29, 29, 29]]])"
      ]
     },
     "execution_count": 8,
     "metadata": {},
     "output_type": "execute_result"
    }
   ],
   "source": [
    "tensors = []\n",
    "for i in range(30):\n",
    "    t = torch.full((3,5,5),i)\n",
    "    t = t.unsqueeze(0)\n",
    "    tensors.append(t)\n",
    "ts = torch.cat(tensors, dim=0)\n",
    "ts"
   ]
  },
  {
   "cell_type": "code",
   "execution_count": 9,
   "id": "d291afec",
   "metadata": {},
   "outputs": [
    {
     "data": {
      "text/plain": [
       "tensor([[0, 0, 0, 0, 0],\n",
       "        [0, 0, 0, 0, 0],\n",
       "        [0, 0, 0, 0, 0],\n",
       "        [0, 0, 0, 0, 0],\n",
       "        [0, 0, 0, 0, 0]])"
      ]
     },
     "execution_count": 9,
     "metadata": {},
     "output_type": "execute_result"
    }
   ],
   "source": [
    "ts[0]"
   ]
  },
  {
   "cell_type": "code",
   "execution_count": null,
   "id": "8d642118",
   "metadata": {},
   "outputs": [],
   "source": []
  }
 ],
 "metadata": {
  "kernelspec": {
   "display_name": "torch",
   "language": "python",
   "name": "python3"
  },
  "language_info": {
   "codemirror_mode": {
    "name": "ipython",
    "version": 3
   },
   "file_extension": ".py",
   "mimetype": "text/x-python",
   "name": "python",
   "nbconvert_exporter": "python",
   "pygments_lexer": "ipython3",
   "version": "3.13.2"
  }
 },
 "nbformat": 4,
 "nbformat_minor": 5
}
