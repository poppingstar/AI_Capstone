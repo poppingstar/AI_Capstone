{
 "cells": [
  {
   "cell_type": "code",
   "execution_count": null,
   "id": "94d9dae8",
   "metadata": {},
   "outputs": [],
   "source": [
    "import cv2 as cv\n",
    "import numpy as np\n",
    "from pathlib import Path\n",
    "from concurrent.futures import ThreadPoolExecutor \n",
    "import shutil, os\n",
    "import polars as pl\n",
    "import matplotlib.pyplot as plt"
   ]
  },
  {
   "cell_type": "code",
   "execution_count": null,
   "id": "0aa7504f",
   "metadata": {},
   "outputs": [],
   "source": [
    "def get_saturation(img_path):\n",
    "    bgr_img = cv.imread(img_path)\n",
    "    hsv_img = cv.cvtColor(bgr_img, cv.COLOR_BGR2HSV)\n",
    "    \n",
    "    saturation = hsv_img[:, :, 1]\n",
    "    avg_saturation = np.mean(saturation)\n",
    "    print(avg_saturation)"
   ]
  },
  {
   "cell_type": "code",
   "execution_count": null,
   "id": "cc061bb7",
   "metadata": {},
   "outputs": [],
   "source": [
    "def get_mean(img_path):\n",
    "    bgr_img = cv.imread(img_path)\n",
    "    hsv_img = cv.cvtColor(bgr_img, cv.COLOR_BGR2HSV)\n",
    "    rgb_img = cv.cvtColor(hsv_img, cv.COLOR_HSV2RGB)\n",
    "    print(rgb_img.mean())"
   ]
  },
  {
   "cell_type": "code",
   "execution_count": null,
   "id": "ecc22db0",
   "metadata": {},
   "outputs": [],
   "source": [
    "def is_almost_gray(bgr_img:str)->bool:\n",
    "    hsv_img = cv.cvtColor(bgr_img, cv.COLOR_BGR2HSV)\n",
    "    \n",
    "    saturation = hsv_img[:, :, 1]\n",
    "    avg_saturation = np.mean(saturation)\n",
    "    \n",
    "    is_gray = True if avg_saturation <22 else False\n",
    "    return is_gray"
   ]
  },
  {
   "cell_type": "code",
   "execution_count": null,
   "id": "d648c9ee",
   "metadata": {},
   "outputs": [],
   "source": [
    "def find_img_files(img_dir:str) -> list[Path]:\n",
    "    img_suffixs = ['.png', '.jpg']\n",
    "    dir_path = Path(img_dir)\n",
    "    img_paths = [f for f in dir_path.iterdir() if f.suffix in img_suffixs]\n",
    "    return img_paths"
   ]
  },
  {
   "cell_type": "code",
   "execution_count": null,
   "id": "01c11777",
   "metadata": {},
   "outputs": [],
   "source": [
    "def get_imgs(paths:list[str])->np.ndarray[np.ndarray]:\n",
    "    max_threads_num = os.cpu_count()\n",
    "    subset_size = len(paths)//max_threads_num\n",
    "\n",
    "    if len(paths) <= max_threads_num:\n",
    "        subsets = [paths]\n",
    "    else: \n",
    "        subsets = [paths[(i)*subset_size:(i+1)*subset_size] for i in range(max_threads_num)]\n",
    "        subsets[-1].extend(paths[max_threads_num*subset_size:])\n",
    "        \n",
    "    read_imgs = lambda path_subset: [cv.imread(path) for path in path_subset]\n",
    "    with ThreadPoolExecutor(max_threads_num) as executor:\n",
    "        futures = [executor.submit(read_imgs, subset) for subset in subsets]\n",
    "    \n",
    "    bgr_imgs = []\n",
    "    for future in futures:\n",
    "        bgr_imgs.extend(future.result())\n",
    "    return np.ndarray(bgr_imgs)"
   ]
  },
  {
   "cell_type": "code",
   "execution_count": null,
   "id": "dd73cff3",
   "metadata": {},
   "outputs": [],
   "source": [
    "def gray_seperation(img_dir):\n",
    "    img_dir = Path(img_dir)\n",
    "    img_paths = find_img_files(img_dir)\n",
    "    gray_img_paths = [img for img in img_paths if is_almost_gray(img)]\n",
    "    \n",
    "    seperation_dir = img_dir.parent/'gray'/img_dir.name\n",
    "    seperation_dir.mkdir(exist_ok=True, parents=True)\n",
    "\n",
    "    for gray_img in gray_img_paths:\n",
    "        shutil.move(gray_img, seperation_dir/gray_img.name)"
   ]
  },
  {
   "cell_type": "code",
   "execution_count": null,
   "id": "07946de8",
   "metadata": {},
   "outputs": [],
   "source": [
    "def get_histogram_df(std_array:np.ndarray, distance:int = 5):\n",
    "    boundary = np.arange(0, std_array.max()+distance, distance)\n",
    "    histogram = np.histogram(std_array, boundary)\n",
    "    \n",
    "    col_name = list(histogram[1][1:].astype(int).astype(str))\n",
    "    col_data = histogram[0].reshape(1,-1)\n",
    "\n",
    "    histogram_df = pl.DataFrame(col_data, col_name)\n",
    "    return histogram_df"
   ]
  },
  {
   "cell_type": "code",
   "execution_count": null,
   "id": "54bd96ff",
   "metadata": {},
   "outputs": [],
   "source": [
    "Ipath = r\"E:\\Datasets\\deep_real\\deepfake and real images\\train\\Real\"\n",
    "paths = list(Path(Ipath).iterdir())\n",
    "bgr_imgs = get_imgs(paths)\n",
    "img_num = len(paths)\n",
    "\n",
    "h_stds, s_stds = np.zeros(img_num), np.zeros(img_num)\n",
    "for idx, bgr_img in enumerate(bgr_imgs):\n",
    "    h, s, v = cv.split(cv.cvtColor(bgr_img, cv.COLOR_BGR2HSV))\n",
    "    h_stds[idx] = s.std()\n",
    "    s_stds[idx] = h.std()"
   ]
  },
  {
   "cell_type": "code",
   "execution_count": null,
   "id": "e56b0467",
   "metadata": {},
   "outputs": [],
   "source": [
    "get_histogram_df(h_stds, 5)"
   ]
  },
  {
   "cell_type": "code",
   "execution_count": null,
   "id": "5d91e8fb",
   "metadata": {},
   "outputs": [],
   "source": [
    "get_histogram_df(s_stds, 5)"
   ]
  },
  {
   "cell_type": "code",
   "execution_count": null,
   "id": "415fff59",
   "metadata": {},
   "outputs": [],
   "source": [
    "single_tone_path = r\"E:\\Datasets\\deep_real\\deepfake and real images\\train\\hand_refine\\color_refine\"\n",
    "single_tone_paths = list(Path(single_tone_path).iterdir())\n",
    "print(single_tone_paths)\n",
    "single_tone_imgs = get_imgs(single_tone_paths)\n",
    "print(single_tone_imgs)\n",
    "img_num = len(single_tone_paths)\n",
    "\n",
    "h_stds, s_stds = np.zeros(img_num), np.zeros(img_num)\n",
    "for idx, bgr_img in enumerate(single_tone_imgs):\n",
    "    h, s, v = cv.split(cv.cvtColor(bgr_img, cv.COLOR_BGR2HSV))\n",
    "    h_stds[idx] = s.std()\n",
    "    s_stds[idx] = h.std()"
   ]
  },
  {
   "cell_type": "code",
   "execution_count": null,
   "id": "a167b3b6",
   "metadata": {},
   "outputs": [],
   "source": [
    "get_histogram_df(std_array=h_stds)"
   ]
  },
  {
   "cell_type": "code",
   "execution_count": null,
   "id": "ce60c84b",
   "metadata": {},
   "outputs": [],
   "source": [
    "get_histogram_df(s_stds)"
   ]
  },
  {
   "cell_type": "code",
   "execution_count": null,
   "id": "28e98d41",
   "metadata": {},
   "outputs": [],
   "source": [
    "#중앙값 기반"
   ]
  }
 ],
 "metadata": {
  "kernelspec": {
   "display_name": "danal",
   "language": "python",
   "name": "python3"
  },
  "language_info": {
   "codemirror_mode": {
    "name": "ipython",
    "version": 3
   },
   "file_extension": ".py",
   "mimetype": "text/x-python",
   "name": "python",
   "nbconvert_exporter": "python",
   "pygments_lexer": "ipython3",
   "version": "3.13.2"
  }
 },
 "nbformat": 4,
 "nbformat_minor": 5
}
